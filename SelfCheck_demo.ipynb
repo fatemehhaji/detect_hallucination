{
 "cells": [
  {
   "cell_type": "code",
   "execution_count": 1,
   "metadata": {},
   "outputs": [],
   "source": [
    "import torch\n",
    "import spacy\n",
    "import pandas as pd"
   ]
  },
  {
   "cell_type": "markdown",
   "metadata": {},
   "source": [
    "<details>\n",
    "<summary><strong>Dataset \"wiki_bio_gpt3_hallucination</strong></summary>\n",
    "\n",
    "https://huggingface.co/datasets/potsawee/wiki_bio_gpt3_hallucination\n",
    "</details>\n"
   ]
  },
  {
   "cell_type": "code",
   "execution_count": 2,
   "metadata": {},
   "outputs": [
    {
     "name": "stderr",
     "output_type": "stream",
     "text": [
      "/work/nlx505/llm_hallucination/selfcheckgpt/selfcheck/lib/python3.9/site-packages/tqdm/auto.py:21: TqdmWarning: IProgress not found. Please update jupyter and ipywidgets. See https://ipywidgets.readthedocs.io/en/stable/user_install.html\n",
      "  from .autonotebook import tqdm as notebook_tqdm\n"
     ]
    }
   ],
   "source": [
    "from datasets import load_dataset\n",
    "dataset = load_dataset(\"potsawee/wiki_bio_gpt3_hallucination\")"
   ]
  },
  {
   "cell_type": "code",
   "execution_count": 3,
   "metadata": {},
   "outputs": [
    {
     "data": {
      "text/plain": [
       "DatasetDict({\n",
       "    evaluation: Dataset({\n",
       "        features: ['gpt3_text', 'wiki_bio_text', 'gpt3_sentences', 'annotation', 'wiki_bio_test_idx', 'gpt3_text_samples'],\n",
       "        num_rows: 238\n",
       "    })\n",
       "})"
      ]
     },
     "execution_count": 3,
     "metadata": {},
     "output_type": "execute_result"
    }
   ],
   "source": [
    "dataset"
   ]
  },
  {
   "cell_type": "code",
   "execution_count": 22,
   "metadata": {},
   "outputs": [
    {
     "data": {
      "text/plain": [
       "{'gpt3_text': \"John Russell Reynolds (1820–1876) was an English lawyer, judge, and author. He was born in London, the son of a barrister, and was educated at Eton College and Trinity College, Cambridge. He was called to the bar in 1845, and became a Queen's Counsel in 1859. He was appointed a judge of the Court of Common Pleas in 1867, and was knighted in 1871.\\n\\nReynolds was a prolific author, writing on a wide range of topics. He wrote several books on legal topics, including The Law of Libel and Slander (1863), The Law of Copyright (1865), and The Law of Patents for Inventions (1868). He also wrote on a variety of other topics, including history, biography, and literature. He was a frequent contributor to the Saturday Review, and wrote several books on Shakespeare, including The Mystery of William Shakespeare (1848) and The Authorship of Shakespeare (1875). He also wrote a biography of the poet John Keats (1848).\",\n",
       " 'wiki_bio_text': 'Sir John Russell Reynolds, 1st Baronet (22 May 1828 – 29 May 1896) was a British neurologist and physician. Reynolds was born in Romsey, Hampshire, as the son of John Reynolds, an independent minister, and the grandson of Dr. Henry Revell Reynolds. He received general education from his father, and was educated in his profession at University College, London, where he obtained three gold medals in the medical school. In 1851, he graduated M.B. in the University of London, and obtained a scholarship and gold medal in medicine. In 1852, he took the degree of M.D., and began practice in Leeds. He soon after moved to London, and took a house, 38 Grosvenor Street, in which Dr. Marshall Hall had lived. Hall announced to his patients in a printed circular that Reynolds had succeeded him in practice. Such procedure was contrary to a recognised understanding among physicians, and Hall incurred the censure of the College of Physicians. Reynolds, who was ignorant of Hall\\'s intention, was in no way responsible for the circular, and was in no way involved in the censure. He was duly elected a Fellow of the College in 1859. In the same year, he was appointed Assistant Physician to University College Hospital, to which he continued attached throughout life. He had before been, in 1855, Assistant Physician to the Hospital for Sick Children, and in 1857 Assistant Physician to the Westminster Hospital. In 1865, he became Professor of the Principles and Practice of Medicine at University College, and in 1878 he was appointed Physician-in-Ordinary to the Queen\\'s Household. He gained a considerable practice as a physician, and was often consulted in difficult cases of nervous disease. In 1869, he was elected a Fellow of the Royal Society, and in 1883 Vice-President of the Royal Medical and Chirurgical Society. He delivered the Lumleian Lecture at the College of Physicians in 1867, the Harveian Oration in 1884, and was elected President in 1893, on the death of Sir Andrew Clark. He was re-elected in 1894 and 1895, and on 1 January in the latter year was created a Baronet. In the winter of 1895–96, he became too ill to offer himself for re-election as President of the College of Physicians. He died at his house in Grosvenor Street, London, after several weeks of illness of a pulmonary congestion, on 29 May 1896. He was married, first, to Miss Ainslie, and, secondly, to Frances, widow of C. J. C. Crespigny, but left no children. The \"Reynolds Baronetcy\", of Grosvenor Street, was created in the Baronetage of the United Kingdom on 28 February 1895 for John Russell Reynolds. The title became extinct on his death. Reynolds devoted himself from an early period to the study of nervous diseases, and in 1854 published an \"Essay on Vertigo\"; in 1855 \"Diagnosis of Diseases of the Brain, Spinal Cord, and Nerves\", as well as \"Tables for the Diagnosis of Diseases of the Brain\"; in 1861 a treatise on epilepsy; in 1871 \"Lectures on the Clinical Uses of Electricity\"; in 1872 \"The Scientific Value of the Legal Tests of Insanity\"; besides many papers in medical periodicals and the transactions of medical societies, and several addresses to medical associations. His writings on nervous diseases were useful contributions to a department of medicine in which much work remained undone, but in the flood of modern observations they have been submerged. He will chiefly be remembered among physicians as the editor of the \"System of Medicine\", in five volumes, published from 1866 to 1879, a collection of essays on diseases, written by the most competent men who could be induced to write – compositions of varying merit, but generally of high value. He himself wrote the parts on erysipelas, on inflammation of the lymphatics, and on several forms of nervous disease. He published in 1893 a \"Life of Dr. Walter Hayle Walshe\". Reynolds was a tall man, with dark hair, with a dignified delivery and some oratorical power. Reynolds died in London.',\n",
       " 'gpt3_sentences': ['John Russell Reynolds (1820–1876) was an English lawyer, judge, and author.',\n",
       "  'He was born in London, the son of a barrister, and was educated at Eton College and Trinity College, Cambridge.',\n",
       "  \"He was called to the bar in 1845, and became a Queen's Counsel in 1859.\",\n",
       "  'He was appointed a judge of the Court of Common Pleas in 1867, and was knighted in 1871.',\n",
       "  'Reynolds was a prolific author, writing on a wide range of topics.',\n",
       "  'He wrote several books on legal topics, including The Law of Libel and Slander (1863), The Law of Copyright (1865), and The Law of Patents for Inventions (1868).',\n",
       "  'He also wrote on a variety of other topics, including history, biography, and literature.',\n",
       "  'He was a frequent contributor to the Saturday Review, and wrote several books on Shakespeare, including The Mystery of William Shakespeare (1848) and The Authorship of Shakespeare (1875).',\n",
       "  'He also wrote a biography of the poet John Keats (1848).'],\n",
       " 'annotation': ['major_inaccurate',\n",
       "  'major_inaccurate',\n",
       "  'major_inaccurate',\n",
       "  'major_inaccurate',\n",
       "  'major_inaccurate',\n",
       "  'major_inaccurate',\n",
       "  'major_inaccurate',\n",
       "  'major_inaccurate',\n",
       "  'major_inaccurate'],\n",
       " 'wiki_bio_test_idx': 62464,\n",
       " 'gpt3_text_samples': ['John Russell Reynolds (1 November 1829  – 11 March 1907) was an English lexicographer, editor and author. Born in London, he was the eldest son of the first Lord Ogmore, and was educated at Trinity College, Oxford, where he graduated B.A. in 1852 and became a Fellow in 1854. He was president of Magdalen Hall from 1864 to 1884, and from 1864 to 1883 was assistant-editor to the Oxford English Dictionary under James Murray. \\n\\nHe was a permanent contributor to The Saturday Review, and wrote several books about the House of Commons. He also compiled dictionaries of quotations and biographies and edited collections of newspaper articles. He had a particular interest in the works of Christian mystics, writing studies of the lives and works of Saints Augustine and Thomas à Kempis. For his edition of Thomas à Kempis\\' \"The Imitation of Christ\", first published in 1875, he wrote a biographical introduction.',\n",
       "  \"John Russell Reynolds (26 April 1819 – 17 June 1879) was an English poet, journalist and government servant. He was born in London and lived most of his life in the capital, although he spent a few years in the U.S.A.\\n\\nReynolds began his literary career writing reviews and verses for the Magazine of the British and Foreign Bible Society. In 1840, he was appointed as a commissioner in the Department of Woods and Forests and was later promoted to Secretary of the Office of Works in 1867.\\n\\nHe wrote translations of Virgil's Eclogues and Georgics, and subsequently wrote a number of poems for various periodicals. His most famous poem is probably The Forsaken Merman, in which he expresses sympathy for the fate of a mermaid who is forced to leave her Sea-King home.\\n\\nReynolds also published a long narrative poem, The Young Shepherds of Arcady, in 1851 and composed other poem collections such as The Holy Year in Poetry, The Poetical Remains of John Russel Reynolds and The Choicest Songs of John Russel\",\n",
       "  \"John Russell Reynolds (1820-1876) was an English lawyer, author, political theorist, and civil servant. He is widely known for his contributions to English jurisprudence, was the author of many books and pamphlets, especially in constitutional law, and is often credited as the father of codified English common law. Reynolds was born in London on 21 June 1820, the son of John Reynolds, a clerk in the Exchequer, and his wife Anna Pollock. He was educated at Dean Close School, and then at St. Edmund Hall, Oxford, from which he graduated BA in 1842; he was called to the bar at Lincoln's Inn in 1849. He was a member of the Royal Commission for the Revision of the Criminal Law, and with the help of his father drafted the Criminal Law Consolidation Acts of 1861 and 1864. He was legal member of the Indian Council from 1870 to 1876 and published his principle works, The Institutes of the Laws of England in 1869, and followed it up with The Laws of England in 1871, which is still consulted today. His influence on British law\",\n",
       "  \"John Russell Reynolds (1817 – 1879) was a British lawyer, translator and classical scholar. He was a contemporary of, and may have been influenced by, the Philhellenist Richard Payne Knight.\\n\\nReynolds was born in London, where he was educated at Westminster School. He then studied the classics at Queen's College, Oxford, graduating in 1839. He was called to the bar of the Inner Temple in 1843.\\n\\nReynolds became a popular translator from ancient Greek and Latin, often using creative license to give the English translation poetic flourish. Among the works he translated are Theocritus in 1845 and the Treatise on Oratory by the Roman rhetorician Quintilian in 1856.\\n\\nReynolds was also a lawyer and Fellow of the Royal Society and published many other works. He was appointed Reader in Poetry at Oxford in 1861 and predeceased his father, Sir John Richardson Reynolds. He was buried in the North Cemetery of Oxford.\",\n",
       "  \"John Russell Reynolds (3 August 1827 – 6 March 1876) was an English barrister, judge, legal writer and the first editor of The Law Times. He was the fifth child and eldest son of Kemble Reynolds, a prominent member of the London Stock Exchange.\\n\\nReynolds was educated at Harrow School before being called to the Bar at Lincoln's Inn in 1849. He went on to become a conveyancer, and selected as the first editor of The Law Times. He became a Queen's Counsel in 1866 and was appointed to the Common Pleas Division of the High Court of Justice in 1868. \\n\\nReynolds was highly respected as a jurist and he is regarded as one of the most important legal writers of the 19th century. He wrote several books and articles on a variety of topics, including real property, private international law, and equity. He was also a prolific contributor to legal journals, and edited several editions of Hargrave's Law of Nations. He is credited with writing the authoritative work on trusts and estates, the Treatise on the Law of Trusts, which has remained\",\n",
       "  'John Russell Reynolds (1816–1876) was an English physician, author and literary critic. Born on the Isle of Wight, Russell Reynolds studied medicine in London and at University of Edinburgh. He became a Fellow of the Royal College of Physicians of London in 1843 before settling in Bloomsbury with his practice. He wrote prolifically and was considered a scholar of Shakespeare and other literary works. He wrote for several journals, edited and published a five-volume edition of the works of William Shakespeare, published The Shakespeare Library based on his collection and delivered lectures on Shakespeare and other authors. In his spare time, he worked on a revision and remedial editing of the Augustan poets and produced a number of scholarly works. He also contributed to medical journals, but was unsuccessful in his application to become a physician to the Household of Queen Victoria.',\n",
       "  'John Russell Reynolds (1820–1876) was an English writer and physician known for his significant contributions to the development of Victorian medicine and to literature. He published several works, including passionate poems and madrigals, a popular novel, and two books on medicine.\\n\\nReynolds was born in London in 1820 to Dr. John Reynolds, a music teacher and a medical student, and his wife, Anne Ravell. He received his first medical education at the Royal College of Physicians between 1838 and 1841 and married Henrietta Ann Seale three years later. Reynolds served as fellow at the Royal College of Surgeons between 1846 and 1847, where he taught anatomy and chemistry.\\n\\nIn 1849, he became a resident physician at the newly established West London Hospital. Five years later, he was appointed as consulting physician and lecturer in midwifery and diseases of women. In 1856, Reynolds was elected a Fellow of the Royal College of Physicians and was one of the members of the expert committee on smallpox and vaccination. He was also a member of the committee of the Medical Society of London.',\n",
       "  \"John Russell Reynolds (1827 – 1891) was an English physician and neurologist. He was born in London, the eldest son of a lawyer. He studied medicine at St Bartholomew’s Hospital, London, and graduated in 1849 with a distinction in medicine.\\n\\nReynolds was a member of the Royal College of Physicians and also of the Royal College of Surgeons of England. He was a prominent member of the medical profession and gained recognition for his work in medicine, neurology and psychiatry. He wrote numerous books on medicine and neurology, the most notable being his 'Diseases of the Nervous System' published in 1867, which was one of the first textbooks in modern neurology.\\n\\nReynolds was appointed Physician Extraordinary to Queen Victoria in 1876, and was knighted two years later in 1878. He became an honorary fellow of the Royal College of Physicians in 1889. He was a very brilliant medical specialist who was respected by many of his peers. He died in London in 1891.\",\n",
       "  \"John Russell Reynolds (17 April 1819 – 18 May 1879) was an English judge and law writer. He was the eldest son of Thomas Reynolds and his wife Judith, née Burton. He received his early education at a private school, and at the age of fifteen he was articled to a solicitor in London.\\n\\nReynolds was called to the bar at the Middle Temple in 1844. In the following year he published a book of legal maxims, which was favourably noticed, and brought him into general repute among the profession. He served on the Oxford circuit, where he became a leader, and was made a Queen's Counsel in 1860.\\n\\nIn 1870 Reynolds was appointed to the Common Pleas Bench; and he was made a High Court judge in 1881. The same year he published his principal work, The Common Law and Equity. He also wrote a number of books on law and legal cases, as well as single essay and various biographies.\\n\\nDuring his time as a judge Reynolds was notable for his respect for existing precedents. He propounded that precedent and tradition were the twin sources of\",\n",
       "  \"John Russell Reynolds (18 January 1832–6 February 1893) was an English lawyer and Judge best remembered for two of his judgments. The first, in 1878, affirmed meaning of the Indian Evidence Act, now embodies in section 32 of the Indian Evidence Act, 1872. The second, in 1887, established that a temple construct by the Shewanid dynasty of the Marathas counts as an antiquity, and qualifies under the Ancient Monuments Preservation Act, 1882.\\n\\nReynolds was born 18 January 1832 at Bushey, Hertfordshire, the fifth child of James and his wife, Ann Lewis. He was educated at Charterhouse and studied law at Lincoln's Inn. He was called to the Bar in 1859, becoming a QC in 1877.\\n\\nIn 1880, Reynolds was appointed Judge of the High Court of Judicature at Bombay, a post held until 1885, when he returned to England. In 1891, he was appointed a Baron of the Exchequer, a position held when he died of a third stroke on 6 February 1893. A portrait of John Russell Reynolds, painted\",\n",
       "  \"John Russell Reynolds (15 October 1828 – 16 February 1896) was an English lawyer and bibliographer. He is best known for his work, The Life and Correspondence of Thomas Reid (1870), the first biography of the Scottish philosopher Thomas Reid. He also wrote papers on legal topics and published The Law Magazine and Law Review, an influential legal publication.\\n\\nReynolds was born in London and educated at Eton College and at Trinity College, Cambridge. After graduating, he was called to the bar in 1849, worked as a journalist, and was an editorial assistant to Charles Knight in London. In 1862, he became a commissioner in bankruptcy, and in 1871 he was made assistant judge of the County Court. From 1876 to 1893 he was a member of the syndicate of judges of the Common Pleas, Queen's Bench and Chancery divisions. \\n\\nReynolds was a close friend of Charles Darwin, who dedicated his book The Descent of Man (1871) to him. He was an active member of the Metaphysical Society, a diverse group of intellectuals that gathered to discuss science,\",\n",
       "  'John Russell Reynolds (7 August 1817 – 4 November 1876) was an English surgeon, author and naturalist, who was one of the leading medical practitioners of the Victorian era in England. He was born in London, and was the third son of Thomas Reynolds, a physician. He was educated first at King\\'s College School, then attended University College Hospital, where he trained to become a surgeon. He graduated with honours in 1844, He was elected President of the Laryngological Society in 1869 and a Fellow of the Royal College of Physicians of London in 1871. He was a Fellow of the Royal College of Surgeons in 1841, Fellow of the Linnean Society in 1846 and was also a member of numerous other scientific societies and associations. He rose to become one of the most respected and renowned physicians of his age, praised for his exceptional skill and care, as well as his expansive knowledge on a variety of medical subjects. He published over fifty works, including \"A Treatise on the Medical Effects of Air, Climate and Locality\" (1844), \"A Treatise on Fevers and Inf',\n",
       "  \"John Russell Reynolds (18 January 1817 – 22 April 1876) was an English surgeon and antiquarian, who served on the Royal Commission on the British Museum and was one of the first curators of the then newly founded Natural History Museum in South Kensington.\\n\\nReynolds was born in London, to James and Anne (née Locke) Reynolds. He was educated at private schools, was apprenticed to a surgeon at St Thomas' Hospital in 1834 and obtained the gold medal of the college. He became FRCS in 1836, and FRS in the same year.\\n\\nReynolds served on the Royal Commission on the British Museum from 1861 to 1865, before being appointed the first curator of the then newly founded Natural History Museum in South Kensington. During his tenure, he was responsible for the cataloguing and improving of the collections at the museum, which had been left in a state of disorder by its predecessor. He retired in December 1871 owing to ill health, and died in 1876.\",\n",
       "  \"John Russell Reynolds (1826–1876) was an English mathematician, who was born 25 April 1826. He is especially remembered for his texts on algebra and calculus; but he also wrote extensively on geometry and the use of infinitesimals.\\n\\nHe was educated at Beccles Grammar School and Trinity College, Cambridge, where he was senior wrangler and first Smith's prizeman in 1849. In 1849, Reynolds was appointed second wrangler and first Smith prizeman at Trinity College, Cambridge. As a student he was nicknamed ‘wicked’ due to his mischievous behaviour, but this changed when he became a Fellow and lecturer at Trinity College in 1850.\\n\\nReynolds wrote many books, and in 1868 he was elected to the Royal Society. He was an influential figure in Cambridge and was respected by his friends and colleagues. He was widely respected for his personal integrity and was known to be 'very caring in his teaching'. \\n\\nHe died in 1876.\",\n",
       "  'John Russell Reynolds (18 October 1799 - 22 April 1879) was an English lawyer and literary editor. He became a Fellow of the Royal Society in 1863, one of the first lawyers to be so honoured.\\n\\nReynolds was born in London, the second son of John Reynolds, a silk-mercer in Ludgate Hill. His ancestors for several generations had been landowners in Essex and Somerset. After attending Westminster School, in 1817 he entered the Middle Temple, and in 1820 was called to the bar, but did not practice.\\n\\nFrom 1833 he was an editor of the Quarterly Review, with Sir Robert Inglis, till in April 1860 he was compelled by infirmities, attributable to advanced age, to resign the appointment. Later he became honorary editor of the works of Sir Walter Scott, and he superintended other important publications. \\n\\nReynolds was a Gurneyite Quaker, and in 1847 was appointed one of the vice-presidents of the British and Foreign Bible Society, which continued to be his principal interest until his death. He was the author of several collections',\n",
       "  \"John Russell Reynolds (12 May 1794 – 8 January 1869) was an English author and philologist. He was born in Sandford near Crediton, Devon, the fifth son of John Reynolds (1759–1831), a banker and lawyer, and his wife Anne, née Russell. He was educated at Eton College, and in 1814 obtained a scholarship to Balliol College, Oxford, where he took his Bachelor of Arts degree in 1817, and proceeded to a Master of Arts (MA) degree in 1820.\\n\\nReynolds was the author of several works, mostly on philological and antiquarian topics, including one of the earliest popular books on British birds, The Fire-side Naturalist (1830). He also wrote a two-volume biography of William Shakespeare; with annotated choices from Shakespeare's works, arranged in chronological order appearing in 13 monthly parts in 1840–1; and a two-volume biography of the poet and engraver Thomas Bewick, with a portrait and sixteen engravings, in 1856. In 1810 he published the first paper by an English writer on\",\n",
       "  'John Russell Reynolds (11 April 1792 – 11 December 1872) was an English lawyer and antiquary. He was a prominent figure in Victorian legal circles, and his scholarship helped to establish the practice of English legal history in the 19th century.\\n\\nReynolds was born into a legal family in London, and from a very young age he began involvement with the legal profession. He received an honorary degree from Balliol College in 1815, after which he studied the law under John Singleton Copley (later Lord Lyndhurst). He was called to the bar in 1819, and initially practised as a special pleader and conveyancer.\\n\\nHe enjoyed considerable success in his legal career, eventually becoming one of the leading counsel of the day. In 1836, he was made a QC, and was appointed solicitor-general for Ireland in 1840. His distinguished career in legal circles also earned him the accolade of being knighted in 1845.\\n\\nAside from his legal practice, Reynolds was also known for his work as an antiquarian. He was elected a Fellow of the Society of Antiquaries of London in 18',\n",
       "  'John Russell Reynolds (1792–1852) was a British physician, classicist, and author. He was educated at Trinity College, Dublin, where he studied classics in addition to medicine. Reynolds achieved success as a physician and was appointed one of the first four physicians at the Royal Infirmary in Edinburgh in 1830.\\n\\nIn addition to his medical career, Reynolds wrote extensively in the fields of classical studies and lexicography. He is known for his translations of classical literature, such as Aeschylus and Euripides, and for his Latin-English Lexicon, which was published in four volumes between 1835 and 1840. He was a popular lecturer and was influential in bringing together the classicists and philologists who later founded the Cambridge Philological Society.',\n",
       "  \"John Russell Reynolds (3 December 1876 – 21 April 1950) was an English medical doctor and psychoanalyst who is best known as an analyst of Sigmund Freud. Reynolds, who was initially trained in medicine, went on to a substantial career in psychotherapy and became a major exponent of psychoanalysis in the United Kingdom.\\n\\nReynolds was born in London, the son of a doctor, Thomas Waring Reynolds. He attended the Westminster School, followed by Magdalen College, Oxford, where he completed his medical training in 1901. He initially worked at St Bartholomew's Hospital, London, then became physician to the Portman Mental Hospital in London, and later the Royal Northern Hospital, also in London. In 1915, he served as a major with the Royal Army Medical Corps.\\n\\nIn 1922 Reynolds was one of the early members of the British Psychoanalytic Society, which had been founded the previous year, and was one of the few ‘original members’ who had had personal contact with Freud. He served as the president of the British Psychoanalytical Society in 1938 and 1939.\",\n",
       "  \"John Russell Reynolds (1777–1850) was an eminent English physician and member of the Royal College of Physicians. He was one of the most celebrated and influential of his time, and his important contributions to medicine and natural sciences have secured his place in the history of British science.\\n\\nReynolds was born in York, England, and attended Magdalen College, Oxford, graduating with a B.A. in 1800. His medical studies began at St Bartholomew's Hospital, London, and in 1804 he was appointed house physician, starting a long and distinguished medical career. Reynolds gradually obtained wider recognition and was elected to the Royal College of Physicians in 1810. After this point, he rose through its ranks until he became Secretary in 1823. In 1835, he was made a Councillor, 1845 an Elector, and in 1848, he returned to his academic roots and assumed the role of Vice-President.\\n\\nReynolds made numerous contributions to medicine, including the first description in English of the fourth subgroup of the genus Brucella, now commonly known as Brucella melit\"]}"
      ]
     },
     "execution_count": 22,
     "metadata": {},
     "output_type": "execute_result"
    }
   ],
   "source": [
    "dataset['evaluation'][0]"
   ]
  },
  {
   "cell_type": "code",
   "execution_count": 21,
   "metadata": {},
   "outputs": [
    {
     "data": {
      "text/plain": [
       "20"
      ]
     },
     "execution_count": 21,
     "metadata": {},
     "output_type": "execute_result"
    }
   ],
   "source": [
    "len(dataset['evaluation'][0]['gpt3_text_samples'])"
   ]
  },
  {
   "cell_type": "code",
   "execution_count": 4,
   "metadata": {},
   "outputs": [
    {
     "data": {
      "text/html": [
       "<div>\n",
       "<style scoped>\n",
       "    .dataframe tbody tr th:only-of-type {\n",
       "        vertical-align: middle;\n",
       "    }\n",
       "\n",
       "    .dataframe tbody tr th {\n",
       "        vertical-align: top;\n",
       "    }\n",
       "\n",
       "    .dataframe thead th {\n",
       "        text-align: right;\n",
       "    }\n",
       "</style>\n",
       "<table border=\"1\" class=\"dataframe\">\n",
       "  <thead>\n",
       "    <tr style=\"text-align: right;\">\n",
       "      <th></th>\n",
       "      <th>gpt3_text</th>\n",
       "      <th>wiki_bio_text</th>\n",
       "      <th>gpt3_sentences</th>\n",
       "      <th>annotation</th>\n",
       "      <th>wiki_bio_test_idx</th>\n",
       "      <th>gpt3_text_samples</th>\n",
       "    </tr>\n",
       "  </thead>\n",
       "  <tbody>\n",
       "    <tr>\n",
       "      <th>0</th>\n",
       "      <td>John Russell Reynolds (1820–1876) was an Engli...</td>\n",
       "      <td>Sir John Russell Reynolds, 1st Baronet (22 May...</td>\n",
       "      <td>[John Russell Reynolds (1820–1876) was an Engl...</td>\n",
       "      <td>[major_inaccurate, major_inaccurate, major_ina...</td>\n",
       "      <td>62464</td>\n",
       "      <td>[John Russell Reynolds (1 November 1829  – 11 ...</td>\n",
       "    </tr>\n",
       "    <tr>\n",
       "      <th>1</th>\n",
       "      <td>Matthew Aylmer, 1st Baron Aylmer (1708–1794) w...</td>\n",
       "      <td>Admiral of the Fleet Matthew Aylmer, 1st Baron...</td>\n",
       "      <td>[Matthew Aylmer, 1st Baron Aylmer (1708–1794) ...</td>\n",
       "      <td>[minor_inaccurate, minor_inaccurate, minor_ina...</td>\n",
       "      <td>49661</td>\n",
       "      <td>[\"Matthew Aylmer, 1st Baron Aylmer (c. 1650–17...</td>\n",
       "    </tr>\n",
       "    <tr>\n",
       "      <th>2</th>\n",
       "      <td>Rick Mahler (born Richard Alan Mahler on April...</td>\n",
       "      <td>Richard Keith Mahler (August 5, 1953 in Austin...</td>\n",
       "      <td>[Rick Mahler (born Richard Alan Mahler on Apri...</td>\n",
       "      <td>[minor_inaccurate, minor_inaccurate, accurate,...</td>\n",
       "      <td>20483</td>\n",
       "      <td>[Rick Mahler (January 8, 1956 – May 25, 2005) ...</td>\n",
       "    </tr>\n",
       "    <tr>\n",
       "      <th>3</th>\n",
       "      <td>James Blair (1732–1782) was an American lawyer...</td>\n",
       "      <td>James Blair (September 26, 1786 - April 1, 183...</td>\n",
       "      <td>[James Blair (1732–1782) was an American lawye...</td>\n",
       "      <td>[minor_inaccurate, major_inaccurate, major_ina...</td>\n",
       "      <td>71174</td>\n",
       "      <td>[James Blair (April 2, 1755 – March 8, 1842) w...</td>\n",
       "    </tr>\n",
       "    <tr>\n",
       "      <th>4</th>\n",
       "      <td>Tim Finchem (born August 24, 1947) is an Ameri...</td>\n",
       "      <td>Timothy W. Finchem (born April 19, 1947) is th...</td>\n",
       "      <td>[Tim Finchem (born August 24, 1947) is an Amer...</td>\n",
       "      <td>[minor_inaccurate, accurate, major_inaccurate,...</td>\n",
       "      <td>39945</td>\n",
       "      <td>[\"Tim Finchem (born May 27, 1953) is an Americ...</td>\n",
       "    </tr>\n",
       "  </tbody>\n",
       "</table>\n",
       "</div>"
      ],
      "text/plain": [
       "                                           gpt3_text  \\\n",
       "0  John Russell Reynolds (1820–1876) was an Engli...   \n",
       "1  Matthew Aylmer, 1st Baron Aylmer (1708–1794) w...   \n",
       "2  Rick Mahler (born Richard Alan Mahler on April...   \n",
       "3  James Blair (1732–1782) was an American lawyer...   \n",
       "4  Tim Finchem (born August 24, 1947) is an Ameri...   \n",
       "\n",
       "                                       wiki_bio_text  \\\n",
       "0  Sir John Russell Reynolds, 1st Baronet (22 May...   \n",
       "1  Admiral of the Fleet Matthew Aylmer, 1st Baron...   \n",
       "2  Richard Keith Mahler (August 5, 1953 in Austin...   \n",
       "3  James Blair (September 26, 1786 - April 1, 183...   \n",
       "4  Timothy W. Finchem (born April 19, 1947) is th...   \n",
       "\n",
       "                                      gpt3_sentences  \\\n",
       "0  [John Russell Reynolds (1820–1876) was an Engl...   \n",
       "1  [Matthew Aylmer, 1st Baron Aylmer (1708–1794) ...   \n",
       "2  [Rick Mahler (born Richard Alan Mahler on Apri...   \n",
       "3  [James Blair (1732–1782) was an American lawye...   \n",
       "4  [Tim Finchem (born August 24, 1947) is an Amer...   \n",
       "\n",
       "                                          annotation  wiki_bio_test_idx  \\\n",
       "0  [major_inaccurate, major_inaccurate, major_ina...              62464   \n",
       "1  [minor_inaccurate, minor_inaccurate, minor_ina...              49661   \n",
       "2  [minor_inaccurate, minor_inaccurate, accurate,...              20483   \n",
       "3  [minor_inaccurate, major_inaccurate, major_ina...              71174   \n",
       "4  [minor_inaccurate, accurate, major_inaccurate,...              39945   \n",
       "\n",
       "                                   gpt3_text_samples  \n",
       "0  [John Russell Reynolds (1 November 1829  – 11 ...  \n",
       "1  [\"Matthew Aylmer, 1st Baron Aylmer (c. 1650–17...  \n",
       "2  [Rick Mahler (January 8, 1956 – May 25, 2005) ...  \n",
       "3  [James Blair (April 2, 1755 – March 8, 1842) w...  \n",
       "4  [\"Tim Finchem (born May 27, 1953) is an Americ...  "
      ]
     },
     "execution_count": 4,
     "metadata": {},
     "output_type": "execute_result"
    }
   ],
   "source": [
    "df_dataset = pd.DataFrame(dataset['evaluation'])\n",
    "df_dataset.head()"
   ]
  },
  {
   "cell_type": "markdown",
   "metadata": {},
   "source": [
    "<details>\n",
    "<summary><strong>Demo of the SelfCheckGPT scores</strong></summary>\n",
    "\n",
    "\n",
    "</details>\n"
   ]
  },
  {
   "cell_type": "code",
   "execution_count": 5,
   "metadata": {},
   "outputs": [
    {
     "data": {
      "text/plain": [
       "<torch._C.Generator at 0x7fa9ffd37b10>"
      ]
     },
     "execution_count": 5,
     "metadata": {},
     "output_type": "execute_result"
    }
   ],
   "source": [
    "torch.manual_seed(28)"
   ]
  },
  {
   "cell_type": "code",
   "execution_count": 6,
   "metadata": {},
   "outputs": [
    {
     "name": "stdout",
     "output_type": "stream",
     "text": [
      "cuda\n"
     ]
    }
   ],
   "source": [
    "nlp = spacy.load(\"en_core_web_sm\")\n",
    "device = torch.device(\"cuda\" if torch.cuda.is_available() else \"cpu\")\n",
    "print(device)"
   ]
  },
  {
   "cell_type": "code",
   "execution_count": 66,
   "metadata": {},
   "outputs": [],
   "source": [
    "# passage = \"\"\"\n",
    "# The Eiffel Tower is located in Paris and is made of chocolate. It is named after the engineer Gustave Eiffel.\n",
    "# \"\"\".replace(\"\\n\", \" \").strip()\n",
    "\n",
    "passage = \"\"\"\n",
    "The Eiffel Tower is a symbol of French culture and ingenuity. It stands tall in the heart of Chantilly. Also it constructed primarily from wrought iron.\n",
    "\"\"\".replace(\"\\n\", \" \").strip()"
   ]
  },
  {
   "cell_type": "code",
   "execution_count": 67,
   "metadata": {},
   "outputs": [],
   "source": [
    "# The Eiffel Tower is in Paris and made of iron. \n",
    "sample1 = \"\"\"\n",
    "The Eiffel Tower, recognized globally, dominates the Parisian skyline, crafted from over 7,000 metric tons of iron.\n",
    "\"\"\".replace(\"\\n\", \" \").strip()\n",
    "\n",
    "# The Eiffel Tower is a famous landmark in France. Designed by Gustave Eiffel, it is named after him.\n",
    "sample2 = \"\"\"\n",
    "The Eiffel Tower, an iconic structure, stands as a testament to France's architectural advancement, erroneously believed to be solely designed by Gustave Eiffel.\n",
    "\"\"\".replace(\"\\n\", \" \").strip()\n",
    "\n",
    "# The Eiffel Tower was constructed in 188. Designed by Gustave Eiffel, it is named after him.\n",
    "sample3 = \"\"\"\n",
    "Inaugurated in 1889 for the World's Fair, the Eiffel Tower's creation marked a pivotal moment in engineering history, despite Gustave Eiffel's initial reservations.\n",
    "\"\"\".replace(\"\\n\", \" \").strip()"
   ]
  },
  {
   "cell_type": "code",
   "execution_count": 6,
   "metadata": {},
   "outputs": [
    {
     "data": {
      "text/plain": [
       "{'gpt3_text': 'Tim Finchem (born August 24, 1947) is an American businessman and former Commissioner of the PGA Tour. He served as Commissioner from 1994 to 2016.\\n\\nFinchem was born in Washington, D.C., and grew up in Bethesda, Maryland. He graduated from the University of Maryland in 1969 with a degree in business administration. He then attended the University of Virginia School of Law, where he earned his Juris Doctor degree in 1972.\\n\\nFinchem began his career in the golf industry in 1975, when he joined the PGA Tour as its first full-time legal counsel. He was promoted to Deputy Commissioner in 1988 and Commissioner in 1994. During his tenure, the PGA Tour grew from a domestic tour to an international tour, with events in more than 30 countries. He also oversaw the introduction of the FedEx Cup, a season-long points competition that culminates in a four-tournament playoff.\\n\\nFinchem retired as Commissioner in 2016 and was succeeded by Jay Monahan. He was inducted into the World Golf Hall of Fame in 2017.',\n",
       " 'wiki_bio_text': \"Timothy W. Finchem (born April 19, 1947) is the current Commissioner of Golf's PGA Tour. Finchem was born in Ottawa, Illinois. He took the position on June 1, 1994, succeeding Deane Beman, who retired after nearly 20 years in the post. Finchem had previously served as Vice President of Business Affairs, Deputy Commissioner, and Chief Operating Officer of the Tour. Finchem graduated from Princess Anne High School in Virginia Beach, Virginia. He attended the University of Richmond on a debate scholarship, receiving his Bachelor of Arts degree in 1969. He graduated from the University of Virginia School of Law in 1973. After practicing law in Virginia Beach for three years, Finchem served in the White House during the administration of Jimmy Carter as Deputy Advisor to the President in the Office of Economic Affairs in 1978 and 1979. In the early 1980s, Finchem co-founded the National Marketing and Strategies Group in Washington, D.C. As Commissioner, Finchem has greatly expanded the earnings opportunities for PGA Tour players both domestically and internationally. He has presided over the last three television broadcasting deals (1997, 2001 and 2005) and has maximized the earnings potential of the Tour, and perhaps none was as bold as the most recent deal that excludes ABC and ESPN and challenges the Golf Channel to get better. In 2006, the total PGA Tour purse was $256.8 million, up from $56.4 million in 1994. That remarkable growth has a lot to do with Tiger Woods, but Finchem's supporters also give him some of the credit. Finchem received the 2001 Old Tom Morris Award from the Golf Course Superintendents Association of America, GCSAA's highest honor. He is a single-figure handicap golfer.\",\n",
       " 'gpt3_sentences': ['Tim Finchem (born August 24, 1947) is an American businessman and former Commissioner of the PGA Tour.',\n",
       "  'He served as Commissioner from 1994 to 2016.',\n",
       "  'Finchem was born in Washington, D.C., and grew up in Bethesda, Maryland.',\n",
       "  'He graduated from the University of Maryland in 1969 with a degree in business administration.',\n",
       "  'He then attended the University of Virginia School of Law, where he earned his Juris Doctor degree in 1972.',\n",
       "  'Finchem began his career in the golf industry in 1975, when he joined the PGA Tour as its first full-time legal counsel.',\n",
       "  'He was promoted to Deputy Commissioner in 1988 and Commissioner in 1994.',\n",
       "  'During his tenure, the PGA Tour grew from a domestic tour to an international tour, with events in more than 30 countries.',\n",
       "  'He also oversaw the introduction of the FedEx Cup, a season-long points competition that culminates in a four-tournament playoff.',\n",
       "  'Finchem retired as Commissioner in 2016 and was succeeded by Jay Monahan.',\n",
       "  'He was inducted into the World Golf Hall of Fame in 2017.'],\n",
       " 'annotation': ['minor_inaccurate',\n",
       "  'accurate',\n",
       "  'major_inaccurate',\n",
       "  'minor_inaccurate',\n",
       "  'minor_inaccurate',\n",
       "  'major_inaccurate',\n",
       "  'accurate',\n",
       "  'minor_inaccurate',\n",
       "  'accurate',\n",
       "  'accurate',\n",
       "  'major_inaccurate'],\n",
       " 'wiki_bio_test_idx': 39945,\n",
       " 'gpt3_text_samples': ['\"Tim Finchem (born May 27, 1953) is an American businessman and the Commissioner of the Professional Golfers\\' Association of America (PGA) since 1994. He was born in San Diego, California and graduated from the University of Virginia in 1975, with a degree in sociology.\\n\\nFinchem worked for Pat Summerall Productions from 1976–78 and Electronic Arts from 1979–90. He has been with the PGA since 1990, first holding the title of Senior Vice President of Tour Administration, and then taking on the role as Commissioner in 1994.\\n\\nAs Commissioner, Finchem has overseen the emergence of golf as a global sport, giving it unprecedented commercial success. He has been responsible for ensuring the health of the PGA\\'s professional players and growing the overall game of golf through a variety of marketing deals, television contracts, and the development of new formats such as the FedEx Cup. He also helped open golf to women, providing an opportunity for members of the LPGA. In 2014, Finchem signed a 10-year extension with the PGA to stay as commissioner until 2021.\"',\n",
       "  'Tim Finchem (born December 31, 1945) is an American business executive and the former Commissioner of the PGA Tour. He served as Commissioner of the PGA Tour since 1994 until his retirement on June 1, 2017. As Commissioner, Finchem was responsible for the day-to-day operations and long-term growth of the organization. He implemented the FedEx Cup playoff system, expanded the PGA Tour’s reach outside the U.S., and oversaw one of the most successful periods in the organization’s history. During his tenure, prize money increased by more than 500%, sponsorships increased seven-fold and TV ratings and viewership increased by 25%. Under Finchem’s leadership the PGA Tour also gained unprecedented financial stability, launching long-term business partnerships with a number of major corporations, including FedEx, AT&T, Ralph Lauren, and Shell Oil.',\n",
       "  \"Tim Finchem (born December 2, 1949) is the former commissioner of the PGA Tour. His early career included similar positions with the LPGA and the Senior PGA Tour. He was PGA Tour Commissioner from 1994 to 2016 and chief executive officer of the PGA Tour from 1995 to 2016.\\n\\nFinchem graduated from the University of Arizona College of Law in 1973. After practicing law for a time, he joined the PGA Tour in 1978 as vice president and deputy commissioner, becoming commissioner in 1994. His tenure included negotiations to form the World Golf Championships and the introduction of FedEx Cup Playoffs. He also guided the merger of the Senior PGA Tour with the PGA Tour.\\n\\nDuring Finchem's 22-year tenure, the PGA Tour became the world's most successful sports league. He also helped to stabilize the organization's financial model and increase its global footprint, negotiating several long-term television contracts. In 2016, Forbes reported that Finchem was the highest paid commissioner in sports, earning $22 million. \\n\\nIn November 2016, Finchem announced his retirement and was succeeded by Jay Monahan on\",\n",
       "  '\"Timothy John Finchem (born May 17, 1948) is an American professional golfer and former Commissioner of the PGA Tour.\\n\\nFinchem became the fourth Commissioner of the PGA Tour on June 16, 1994, succeeding Deane Beman. He played a primarily supportive and management role in the power shift that has come to influence the sport of golf, particularly in the professional arena and television coverage.\\n\\nHis tenure has been marked by dramatic increases in purses and the development of a number of successful tournaments. He also helped develop and promote the PGA Tour’s international presence, and has been instrumental in bringing changes in order to modernize the sport and increase its appeal.\\n\\nFinchem left the Tour at the end of 2016 and was succeeded by Jay Monahan. \"',\n",
       "  \"Tim Finchem (born March 28, 1952) is an American businessman who served as the longest-running Commissioner of the Professional Golfers' Association (PGA) from 1994 to 2017. He was instrumental in the development of the sport and its transformation into the global business it is today.\\n\\nFinchem is credited for leading the growth of professional golf through the worldwide expansion of both the PGA Tour and the growth of international tournaments on the European Tour. He was also instrumental in the growth of the Championship Series and revised the format of the Ryder Cup.\\n\\nFinchem's tenure as Commissioner improved the PGA Tour's annual tournament schedule, oversaw the addition of lucrative television deals, and has been credited with the modernization of the golf landscape through increased fan interaction, the development of The Golf Channel, and improvements to courses.\\n\\nA graduate of Wake Forest University, Finchem began his career in the banking industry in 1978 before joining the PGA Tour in 1980. He was first appointed to the Tour's Board of Directors in 1983, eventually becoming its Chairman and gaining broad control of PGA Tour operations.\\n\\nFinchem was awarded the\",\n",
       "  'Timothy J. \"Tim\" Finchem (born December 30, 1948) is the former Commissioner of the PGA Tour, a position he held from June 1994 to January 2017. He was the driving force in the Tour\\'s growth and television success. He focused on player opportunities, charitable contributions, financial growth and new media. Finchem was formerly a member of the U.S. Department of Justice during the Carter Administration. He went on to become a collegiate sports executive and transition to the Tour following his work with ESPN. Before joining the PGA Tour, Finchem was the president of the National Cable Television Association, the founding president of Cabletime and the executive president of programming for STV. In 2014, Finchem ranked No. 20 on the Sporting News\\' list of the most powerful people in golf.',\n",
       "  'Tim Finchem (born May 11, 1946) is a former Commissioner of the Professional Golfers Association (PGA) Tour. He was the longest serving commissioner of the tour, holding the post from November 22, 1994 through June 30, 2017. Prior to becoming the commissioner of the tour, Finchem held various positions in business and golf.\\n\\nFinchem was promoted from Deputy Commissioner to Commissioner of the tour on November 22, 1994. Under his leadership, the tour enjoyed a period of unprecedented growth, both in terms of television coverage and fan attendance. In addition, the tour had successful marketing campaigns and a number of successful innovations that have been adopted by other professional sports leagues. During his tenure, Finchem was credited with negotiating and overseeing a variety of domestic and international television contracts with broadcast networks, cable companies and satellite services, as well as corporate sponsorship agreements. He also oversaw the addition of several tournaments to the schedule, the expansion of the FedEx Cup, and numerous other initiatives. Finchem retired from the PGA Tour in June 2017, after 23 years as its Commissioner.',\n",
       "  'Timothy \"Tim\" Finchem (born August 19, 1949) is the former Commissioner of the Professional Golfers\\' Association Tour (PGA Tour). During his tenure as Commissioner, he oversaw the growth of the sport from a niche sport to a billion-dollar industry, the creation of numerous golf organizations, and the inclusion of golf in the Olympics. He is the longest-serving commissioner in PGA Tour history, having served from 1994 until his retirement in 2016.',\n",
       "  '\"Timothy Dale Finchem (born September 7, 1950) is a former commissioner of the Professional Golfers\\' Association (PGA) Tour. He served as commissioner from 1994 to 2016, before retiring and having Jay Monahan named as his successor. Finchem\\'s tenure saw the PGA Tour expand its reach by adding new tournaments and increasing prize money in the tour\\'s events; he also helped secure multiple corporate sponsorship deals that have ensured the tour\\'s long-term financial security. In addition to the television deals secured under Finchem\\'s watch, the tour also implemented a stronger anti-doping policy, as well as strict rules governing conduct by players. He also initiated the FedEx Championship and Players Championship, which became two of the biggest events held by the PGA tour. Finchem has also served on the board of directors of the World Golf Foundation and USGA since 2003.\"',\n",
       "  \"Timothy J. Finchem (born August 9, 1948) is an American professional golf administrator who served as the Commissioner of the PGA Tour from 1994 to 2016. He is credited with growing PGA Tour revenues ninefold during his tenure as commissioner.\\n\\nFinchem was born in Akron, Ohio, and grew up in Fort Wayne, Indiana, and Scottsdale, Arizona. After graduating from The Thacher School in 1966, he attended Stanford University, graduating with a degree in economics in 1970. He received a J.D. from Stanford Law School in 1975. Finchem was an attorney in Washington, D.C. from 1975 to 1979 before joining the PGA Tour's legal department, becoming executive vice president in 1981. He was promoted to deputy commissioner in 1988 and succeeded Deane Beman as commissioner in 1994.\",\n",
       "  \"Timothy Maurice Finchem (born August 22, 1958) is a professional golfer and business executive. He is the Commissioner Emeritus of the PGA Tour, the governing body for professional golf in the United States and other parts of the world. He has served as the Tour's Commissioner for nearly 25 years prior to being named Commissioner Emeritus in January 2020. Prior to his election as Commissioner in June 1994, he served as the Tour's Vice President and Deputy Commissioner, as well as its Chief Operating Officer.\\n\\nFinchem has also had success on the course. He won the Michigan Open in 1992 and the Michigan PGA Championship in 1995. He was also the first recipient of the PGA Tour Ambassador Award in 2004.\",\n",
       "  \"Tim Finchem (born January 1, 1949) is an American businessman who served as the Commissioner of the Professional Golfers' Association of America (PGA) from 1994 to 2016. During his tenure, the PGA Tour expanded internationally, increased television coverage and prize money, and initiated a gainful player-performance system.\\n\\nFinchem began his career as an attorney in Louisville, Kentucky. He then joined the PGA Tour in 1976 and ascended through the ranks to become the chief operating officer and deputy commissioner in 1984. He succeeded noted amateur golfer Deane Beman as commissioner in 1994 and executive vice president in 1991. He retired from the PGA Tour in 2017.\\n\\nA native of Roanoke, Virginia, Finchem attended The College of William & Mary and George Mason University for a law degree. In addition to his service with the PGA Tour, he also served in various capacities with the United States Golf Association, World Golf Foundation, and Golf 20/20. He is a member of the World Golf Hall of Fame.\",\n",
       "  '\"Timothy Thomas \"Tim\" Finchem (born June 6, 1949) is an American sports executive who was the Commissioner of the Professional Golfers\\' Association (PGA) Tour from 1994 to 2016. He was elected President of the PGA Tour in June 1994, succeeding Deane Beman.\\n\\nFinchem presided over the growth of the PGA Tour, with the number of tournaments expanding from 48 to 46, overall revenues increasing from about $300 million to nearly $1.4 billion, and online business doubling every year. Finchem negotiated lucrative television contracts to ensure the stability of the PGA Tour for years to come. He also discontinued the Senior Tour and replaced it with the Champions Tour. In addition, Finchem added seven events to the regular tour, boosting the total number of tournaments to 47.\\n\\nDuring his time as Commissioner, Finchem developed several new initiatives to both increase fan interest in the game and the financial health of the tour, including the FedEx Cup. He also implemented one of the game\\'s most popular exercises, The Ryder Cup, an event held annually since 1977 by the United States and Great Britain',\n",
       "  \"Tim Finchem (born February 28, 1949 in Ohio) is an American professional golf executive, who was the Commissioner of the Professional Golfers' Association of America (PGA) from 1994 to 2016. He is the longest-serving commissioner in the history of the Association. Under his leadership, the PGA grew from a membership of approximately 6,500 professionals and annual revenues of $40 million to more than 27,000 members and annual revenues approaching $900 million.\\n\\nDuring his tenure, Finchem directed initiatives to enhance playing opportunities for golf professionals and create additional event opportunities, including the establishment of two new Tour events. He also initiated several business and entertainment partnerships that increased the visibility of the PGA, including a TV deal that provided five networks with the broadcast rights to PGA Tour events. Finchem also led the second largest private-public partnership in golf history in the form of the Ryder Cup. His stewardship of the Ryder Cup led to record attendance and substantial increases in corporate interest in the event.\",\n",
       "  'Timothy J. Finchem (born February 19, 1948) is an American sports executive who is Commissioner Emeritus of the PGA Tour. He served as commissioner of the PGA Tour from 1994 to 2016. During his time as commissioner, the PGA Tour was extremely successful and Finchem was credited for introducing a range of key initiatives that helped grow the popularity of the sport such as FedEx Cup, the World Golf Championships, and the PGA Tour Playoffs. He was inducted into the World Golf Hall of Fame in 2019.',\n",
       "  \"Timothy Finchem (born November 18, 1948) is an American sports executive and former Commissioner of the PGA Tour. He served as Commissioner from 1994 to 2016, succeeding Deane Beman and preceding Jay Monahan. \\n\\nA graduate of the University of Virginia School of Law, Finchem began his career as a lawyer for the tour in 1975. At the time, the tour was part of the PGA of America before becoming a separate entity in 1982. As commissioner, Finchem was responsible for setting the PGA Tour's policy, negotiating and enforcing contracts on behalf of the tour's members, and representing the tour in legal disputes.\\n\\nHe is credited with the introduction of several initiatives during his tenure, including the FedEx Cup, the Presidents Cup, The Players Championship, and the Web.com Tour. Finchem was inducted into the World Golf Hall of Fame in 2019 and is listed as one of the highest paid sports commissioners of all time.\",\n",
       "  'Timothy Harrison Finchem (born December 27, 1948) is an American executive who served as the commissioner of the PGA Tour from June 1, 1994 to January 31, 2017. During his tenure, Finchem oversaw a period of increased revenues for the Tour, instituting innovative media and marketing platforms and increasing purses, as well as playing a major role in the expansion of the Tour\\'s global presence. He promoted the development of a federal antitrust exemption for the Tour and served as a confidante to its stakeholders, pursing a \"servant leadership\" role throughout the organization.',\n",
       "  'Timothy \"Tim\" Finchem (born November 22, 1946) is an American professional golf executive who, prior to his retirement in 2017, was the commissioner of the PGA Tour—the main professional golf tour in the United States—from June 1994 to the end of 2016. He is credited with extending PGA Tour broadcasting deals and increasing sponsorship revenue, expanding the FedEx Cup playoffs, and increasing the Tour\\'s presence overseas. He also serves as the chairman of the Presidents Cup and chairs the World Golf Foundation. In addition, Finchem holds a number of other industry positions and is on several different corporate boards.',\n",
       "  \"Timothy Alan Finchem (born March1947) is an American businessman and former Commissioner of the Professional Golfers' Association (PGA) Tour. He was the longest-serving Commissioner in the Tour's history, having served from 1994 through 2016. During his 22-year tenure, Finchem helped bring the Tour to global audiences, negotiating and expanding television rights for broadcasts in the United States, Europe and Asia. He worked to enhance the Tour's brand, increase purse sizes and revenue, and support charitable giving initiatives. He stabilized and improved the financial position of golfers and contributed to an increase in purses reaching over $300 million.\",\n",
       "  \"Tim Finchem (born January 5, 1958) is an American businessman who was the Commissioner of the Professional Golfers' Association (PGA) of America from 1994 to 2016. He was the longest-serving Commissioner in PGA history and presided over the PGA's most successful and profitable era, with more than $2 billion in annual revenues. During his tenure, Finchem led several historic initiatives including the successful negotiations for the PGA Tour's broadcast contract with NBC as well as a series of successful corporate sponsorships. He was also credited for inaugurating the FedEx Cup, a lucrative, season-long competition that changed the way the Tour operated. He was noted for his emphasis on the integrity of the game and for creating a drug-testing program for PGA Tour players, which was the first in the sport.\"]}"
      ]
     },
     "execution_count": 6,
     "metadata": {},
     "output_type": "execute_result"
    }
   ],
   "source": [
    "dataset['evaluation'][4]"
   ]
  },
  {
   "cell_type": "code",
   "execution_count": 9,
   "metadata": {},
   "outputs": [
    {
     "name": "stdout",
     "output_type": "stream",
     "text": [
      "['Finchem retired as Commissioner in 2016 and was succeeded by Jay Monahan.', 'He was inducted into the World Golf Hall of Fame in 2017.']\n",
      "['accurate', 'major_inaccurate']\n"
     ]
    }
   ],
   "source": [
    "passage = dataset['evaluation'][4]['gpt3_text']\n",
    "sentences = dataset['evaluation'][4]['gpt3_sentences'][9:11]\n",
    "samples = dataset['evaluation'][4]['gpt3_text_samples']\n",
    "labels = dataset['evaluation'][4]['annotation'][9:11]\n",
    "\n",
    "print(sentences)\n",
    "print(labels)"
   ]
  },
  {
   "cell_type": "code",
   "execution_count": 11,
   "metadata": {},
   "outputs": [
    {
     "name": "stdout",
     "output_type": "stream",
     "text": [
      "SelfCheck-MQAG initialized to device cpu\n",
      "SelfCheck-BERTScore initialized\n",
      "SelfCheck-1gram initialized\n",
      "SelfCheck-NLI initialized to device cpu\n"
     ]
    },
    {
     "name": "stderr",
     "output_type": "stream",
     "text": [
      "Loading checkpoint shards: 100%|██████████| 3/3 [00:32<00:00, 10.81s/it]"
     ]
    },
    {
     "name": "stdout",
     "output_type": "stream",
     "text": [
      "SelfCheck-LLMPrompt (mistralai/Mistral-7B-Instruct-v0.2) initialized to device cpu\n"
     ]
    },
    {
     "name": "stderr",
     "output_type": "stream",
     "text": [
      "\n"
     ]
    }
   ],
   "source": [
    "from selfcheckgpt.modeling_selfcheck import SelfCheckMQAG, SelfCheckBERTScore, SelfCheckNgram, SelfCheckNLI, SelfCheckLLMPrompt\n",
    "device = torch.device(\"cuda\" if torch.cuda.is_available() else \"cpu\")\n",
    "nlp = spacy.load(\"en_core_web_sm\")\n",
    "\n",
    "selfcheck_mqag = SelfCheckMQAG(device=device) # set device to 'cuda' if GPU is available\n",
    "selfcheck_bertscore = SelfCheckBERTScore(rescale_with_baseline=True)\n",
    "selfcheck_ngram = SelfCheckNgram(n=1) # n=1 means Unigram, n=2 means Bigram, etc.\n",
    "selfcheck_nli = SelfCheckNLI(device=device) # set device to 'cuda' if GPU is available\n",
    "\n",
    "llm_model = \"mistralai/Mistral-7B-Instruct-v0.2\"\n",
    "selfcheck_prompt = SelfCheckLLMPrompt(llm_model, device)"
   ]
  },
  {
   "cell_type": "code",
   "execution_count": 68,
   "metadata": {},
   "outputs": [
    {
     "name": "stdout",
     "output_type": "stream",
     "text": [
      "['The Eiffel Tower is a symbol of French culture and ingenuity.', 'It stands tall in the heart of Chantilly.', 'Also it constructed primarily from wrought iron.']\n"
     ]
    }
   ],
   "source": [
    "# LLM's text (e.g. GPT-3 response) to be evaluated at the sentence level  & Split it into sentences\n",
    "sentences = [sent.text.strip() for sent in nlp(passage).sents] # spacy sentence tokenization\n",
    "print(sentences)\n",
    "\n",
    "# Other samples generated by the same LLM to perform self-check for consistency\n",
    "# sample1 = \"Michael Alan Weiner (born March 31, 1942) is an American radio host. He is the host of The Savage Country.\"\n",
    "# sample2 = \"Michael Alan Weiner (born January 13, 1960) is a Canadian radio host. He works at The New York Times.\"\n",
    "# sample3 = \"Michael Alan Weiner (born March 31, 1942) is an American radio host. He obtained his PhD from MIT.\""
   ]
  },
  {
   "cell_type": "code",
   "execution_count": 9,
   "metadata": {},
   "outputs": [
    {
     "name": "stdout",
     "output_type": "stream",
     "text": [
      "MQAG (race) initialized to cuda\n",
      "Initialized Generation\n",
      "------------------------------------\n",
      "Q0: The Eiffel Tower is located in _.\n",
      "A: Berlin\n",
      "B: Paris\n",
      "C: Edinburgh\n",
      "D: Hong Kong\n",
      "------------------------------------\n",
      "Q1: The Eiffel Tower is a_.\n",
      "A: tower\n",
      "B: tower\n",
      "C: building\n",
      "D: building\n"
     ]
    }
   ],
   "source": [
    "from selfcheckgpt.modeling_mqag import MQAG\n",
    "\n",
    "mqag_model = MQAG(\n",
    "    g1_model_type='race', # race (more abstractive), squad (more extractive)\n",
    "    device=device\n",
    ")\n",
    "\n",
    "questions = mqag_model.generate(context=sentences[0], do_sample=True, num_questions=2)\n",
    "for i, question_item in enumerate(questions):\n",
    "    print(\"------------------------------------\")\n",
    "    print(f\"Q{i}: {question_item['question']}\")\n",
    "    print(f\"A: {question_item['options'][0]}\")\n",
    "    print(f\"B: {question_item['options'][1]}\")\n",
    "    print(f\"C: {question_item['options'][2]}\")\n",
    "    print(f\"D: {question_item['options'][3]}\")"
   ]
  },
  {
   "cell_type": "code",
   "execution_count": 12,
   "metadata": {},
   "outputs": [
    {
     "name": "stdout",
     "output_type": "stream",
     "text": [
      "The Eiffel Tower is located in _.\n",
      "['Berlin', 'Paris', 'Edinburgh', 'Hong Kong']\n",
      "[3.14628705e-05 9.99891877e-01 2.97255319e-05 4.69061924e-05]\n"
     ]
    }
   ],
   "source": [
    "question = questions[0]['question']\n",
    "options = questions[0]['options']\n",
    "\n",
    "print(question)\n",
    "print(options)\n",
    "\n",
    "questions = [{'question': question, 'options': options}]\n",
    "probs = mqag_model.answer(questions=questions, context=sample1) # Answer based on sample1\n",
    "print(probs[0])"
   ]
  },
  {
   "cell_type": "code",
   "execution_count": 69,
   "metadata": {},
   "outputs": [],
   "source": [
    "samples = [sample1, sample2, sample3]"
   ]
  },
  {
   "cell_type": "code",
   "execution_count": 71,
   "metadata": {},
   "outputs": [
    {
     "name": "stdout",
     "output_type": "stream",
     "text": [
      "[0.01842572 0.73710019 0.75946273]\n"
     ]
    }
   ],
   "source": [
    "# --------------------------------------------------------------------------------------------------------------- #\n",
    "# SelfCheck-MQAG: Score for each sentence where value is in [0.0, 1.0] and high value means non-factual\n",
    "# Additional params for each scoring_method:\n",
    "# -> counting: AT (answerability threshold, i.e. questions with answerability_score < AT are rejected)\n",
    "# -> bayes: AT, beta1, beta2\n",
    "# -> bayes_with_alpha: beta1, beta2\n",
    "sent_scores_mqag = selfcheck_mqag.predict(\n",
    "    sentences = sentences,               # list of sentences\n",
    "    passage = passage,                   # passage (before sentence-split)\n",
    "    # sampled_passages = [sample1, sample2, sample3], # list of sampled passages\n",
    "    sampled_passages=samples[:15],\n",
    "    num_questions_per_sent = 2,          # number of questions to be drawn  \n",
    "    scoring_method = 'bayes_with_alpha', # options = 'counting', 'bayes', 'bayes_with_alpha'\n",
    "    beta1 = 0.8, beta2 = 0.8,            # additional params depending on scoring_method\n",
    ")\n",
    "print(sent_scores_mqag)"
   ]
  },
  {
   "cell_type": "code",
   "execution_count": 72,
   "metadata": {},
   "outputs": [
    {
     "name": "stdout",
     "output_type": "stream",
     "text": [
      "[0.57331076 0.89748309 0.89230267]\n"
     ]
    }
   ],
   "source": [
    "# --------------------------------------------------------------------------------------------------------------- #\n",
    "# SelfCheck-BERTScore: Score for each sentence where value is in [0.0, 1.0] and high value means non-factual\n",
    "sent_scores_bertscore = selfcheck_bertscore.predict(\n",
    "    sentences = sentences, # list of sentences\n",
    "    sampled_passages = samples[:5], # list of sampled passages\n",
    ")\n",
    "print(sent_scores_bertscore)"
   ]
  },
  {
   "cell_type": "code",
   "execution_count": 73,
   "metadata": {},
   "outputs": [
    {
     "data": {
      "text/plain": [
       "{'sent_level': {'avg_neg_logprob': [3.9134164989646103,\n",
       "   3.859363439268631,\n",
       "   4.18892870809842],\n",
       "  'max_neg_logprob': [4.672828834461906,\n",
       "   4.672828834461906,\n",
       "   4.672828834461906]},\n",
       " 'doc_level': {'avg_neg_logprob': 3.9726447795096687,\n",
       "  'avg_max_neg_logprob': 4.672828834461906}}"
      ]
     },
     "execution_count": 73,
     "metadata": {},
     "output_type": "execute_result"
    }
   ],
   "source": [
    "# --------------------------------------------------------------------------------------------------------------- #\n",
    "# SelfCheck-Ngram: Score at sentence- and document-level where value is in [0.0, +inf) and high value means non-factual\n",
    "# as opposed to SelfCheck-MQAG and SelfCheck-BERTScore, SelfCheck-Ngram's score is not bounded\n",
    "sent_scores_ngram = selfcheck_ngram.predict(\n",
    "    sentences = sentences,   \n",
    "    passage = passage,\n",
    "    sampled_passages = samples[:5],\n",
    ")\n",
    "sent_scores_ngram\n",
    "# {'sent_level': { # sentence-level score similar to MQAG and BERTScore variant\n",
    "#     'avg_neg_logprob': [3.184312, 3.279774],\n",
    "#     'max_neg_logprob': [3.476098, 4.574710]\n",
    "#     },\n",
    "#  'doc_level': {  # document-level score such that avg_neg_logprob is computed over all tokens\n",
    "#     'avg_neg_logprob': 3.218678904916201,\n",
    "#     'avg_max_neg_logprob': 4.025404834169327\n",
    "#     }\n",
    "# }"
   ]
  },
  {
   "cell_type": "code",
   "execution_count": 74,
   "metadata": {},
   "outputs": [
    {
     "name": "stdout",
     "output_type": "stream",
     "text": [
      "[0.05222131 0.990647   0.7649433 ]\n"
     ]
    }
   ],
   "source": [
    "sent_scores_nli = selfcheck_nli.predict(\n",
    "    sentences = sentences, # list of sentences\n",
    "    sampled_passages = samples[:5], # list of sampled passages\n",
    ")\n",
    "print(sent_scores_nli)"
   ]
  },
  {
   "cell_type": "code",
   "execution_count": 75,
   "metadata": {},
   "outputs": [
    {
     "name": "stderr",
     "output_type": "stream",
     "text": [
      "100%|██████████| 3/3 [01:00<00:00, 20.02s/it]"
     ]
    },
    {
     "name": "stdout",
     "output_type": "stream",
     "text": [
      "[0. 1. 0.]\n"
     ]
    },
    {
     "name": "stderr",
     "output_type": "stream",
     "text": [
      "\n"
     ]
    }
   ],
   "source": [
    "sent_scores_prompt = selfcheck_prompt.predict(\n",
    "    sentences = sentences,  # list of sentences\n",
    "    sampled_passages = samples[:5], # list of sampled passages\n",
    "    verbose = True, # whether to show a progress bar\n",
    ")\n",
    "print(sent_scores_prompt)"
   ]
  },
  {
   "cell_type": "code",
   "execution_count": null,
   "metadata": {},
   "outputs": [],
   "source": []
  }
 ],
 "metadata": {
  "kernelspec": {
   "display_name": "Python 3",
   "language": "python",
   "name": "python3"
  },
  "language_info": {
   "codemirror_mode": {
    "name": "ipython",
    "version": 3
   },
   "file_extension": ".py",
   "mimetype": "text/x-python",
   "name": "python",
   "nbconvert_exporter": "python",
   "pygments_lexer": "ipython3",
   "version": "3.9.18"
  }
 },
 "nbformat": 4,
 "nbformat_minor": 2
}
